{
  "nbformat": 4,
  "nbformat_minor": 0,
  "metadata": {
    "colab": {
      "name": "OMDB Analysis.ipynb",
      "version": "0.3.2",
      "provenance": [],
      "include_colab_link": true
    },
    "kernelspec": {
      "name": "python3",
      "display_name": "Python 3"
    }
  },
  "cells": [
    {
      "cell_type": "markdown",
      "metadata": {
        "id": "view-in-github",
        "colab_type": "text"
      },
      "source": [
        "<a href=\"https://colab.research.google.com/github/vdllarch93/jupyter-notebook-introduction-data-science-intro-000/blob/master/OMDB_Analysis.ipynb\" target=\"_parent\"><img src=\"https://colab.research.google.com/assets/colab-badge.svg\" alt=\"Open In Colab\"/></a>"
      ]
    },
    {
      "cell_type": "markdown",
      "metadata": {
        "id": "Hfmtb1KEyA-k",
        "colab_type": "text"
      },
      "source": [
        "**OMDB Exploratory Homework**"
      ]
    },
    {
      "cell_type": "code",
      "metadata": {
        "id": "dy19KTjQyHKm",
        "colab_type": "code",
        "colab": {
          "base_uri": "https://localhost:8080/",
          "height": 34
        },
        "outputId": "c4b502c6-0da0-427f-ad4e-79ee32339738"
      },
      "source": [
        "#First, find out where we are\n",
        "!ls\n"
      ],
      "execution_count": 11,
      "outputs": [
        {
          "output_type": "stream",
          "text": [
            "movies_rated.csv  sample_data\n"
          ],
          "name": "stdout"
        }
      ]
    },
    {
      "cell_type": "code",
      "metadata": {
        "id": "E2OYGIgozGmB",
        "colab_type": "code",
        "colab": {
          "base_uri": "https://localhost:8080/",
          "height": 153
        },
        "outputId": "f0ae32c8-a60a-4a56-a4aa-744c9c66d41f"
      },
      "source": [
        "#Import the data and print the first five rows\n",
        "\n",
        "import pandas as pd\n",
        "movies = pd.read_csv('movies_rated.csv')\n",
        "print(movies.head())"
      ],
      "execution_count": 14,
      "outputs": [
        {
          "output_type": "stream",
          "text": [
            "                      title  year  ... Rotten Tomatoes Metacritic\n",
            "0  The Shawshank Redemption  1994  ...             9.1        8.0\n",
            "1             The Godfather  1972  ...             9.8       10.0\n",
            "2           The Dark Knight  2008  ...             9.4        8.2\n",
            "3    The Godfather: Part II  1974  ...             9.7        9.0\n",
            "4              Pulp Fiction  1994  ...             9.4        9.4\n",
            "\n",
            "[5 rows x 9 columns]\n"
          ],
          "name": "stdout"
        }
      ]
    },
    {
      "cell_type": "code",
      "metadata": {
        "id": "CZDPLJvX0gDv",
        "colab_type": "code",
        "colab": {
          "base_uri": "https://localhost:8080/",
          "height": 34
        },
        "outputId": "43513c3a-0340-4740-bffe-f1cd7d6af688"
      },
      "source": [
        "# Print out the num rows and cols in the dataset\n",
        "movies.shape"
      ],
      "execution_count": 15,
      "outputs": [
        {
          "output_type": "execute_result",
          "data": {
            "text/plain": [
              "(79, 9)"
            ]
          },
          "metadata": {
            "tags": []
          },
          "execution_count": 15
        }
      ]
    },
    {
      "cell_type": "code",
      "metadata": {
        "id": "1JuiLud709Yf",
        "colab_type": "code",
        "colab": {
          "base_uri": "https://localhost:8080/",
          "height": 391
        },
        "outputId": "be306b29-35b2-4dc5-c6e2-cc33ea44e4a9"
      },
      "source": [
        "# Print out column names and data types\n",
        "cols = movies.columns\n",
        "\n",
        "for idx, col in enumerate(cols):\n",
        "  print(idx+1, col)\n",
        "  \n",
        "print('===========================')  \n",
        "movies.dtypes"
      ],
      "execution_count": 32,
      "outputs": [
        {
          "output_type": "stream",
          "text": [
            "1 title\n",
            "2 year\n",
            "3 content_rating\n",
            "4 genre\n",
            "5 duration\n",
            "6 gross\n",
            "7 Internet Movie Database\n",
            "8 Rotten Tomatoes\n",
            "9 Metacritic\n",
            "10 rt_imdb_ratio\n",
            "===========================\n"
          ],
          "name": "stdout"
        },
        {
          "output_type": "execute_result",
          "data": {
            "text/plain": [
              "title                       object\n",
              "year                         int64\n",
              "content_rating              object\n",
              "genre                       object\n",
              "duration                     int64\n",
              "gross                        int64\n",
              "Internet Movie Database    float64\n",
              "Rotten Tomatoes            float64\n",
              "Metacritic                 float64\n",
              "rt_imdb_ratio              float64\n",
              "dtype: object"
            ]
          },
          "metadata": {
            "tags": []
          },
          "execution_count": 32
        }
      ]
    },
    {
      "cell_type": "code",
      "metadata": {
        "id": "c9qwASR81DUN",
        "colab_type": "code",
        "colab": {
          "base_uri": "https://localhost:8080/",
          "height": 34
        },
        "outputId": "57eed499-7dc5-4b14-c85c-e768aa9737fc"
      },
      "source": [
        "# How many unique genres are available in the dataset?\n",
        "print('There are',movies['genre'].nunique(),'unique genres')"
      ],
      "execution_count": 17,
      "outputs": [
        {
          "output_type": "stream",
          "text": [
            "There are 12 unique genres\n"
          ],
          "name": "stdout"
        }
      ]
    },
    {
      "cell_type": "code",
      "metadata": {
        "id": "0nxM4jKN1IeY",
        "colab_type": "code",
        "colab": {
          "base_uri": "https://localhost:8080/",
          "height": 255
        },
        "outputId": "0d3b8fd4-bf58-4546-ffbd-6aa9cbb479d6"
      },
      "source": [
        "# How many movies are available per genre?\n",
        "movies_per_genre = movies[['genre', 'title']].groupby('genre').count()\n",
        "print(movies_per_genre)"
      ],
      "execution_count": 18,
      "outputs": [
        {
          "output_type": "stream",
          "text": [
            "                     title\n",
            "genre                     \n",
            "Action                  11\n",
            "Adventure                9\n",
            "Animation                5\n",
            "Biography                5\n",
            "Comedy                   4\n",
            "Comedy                   1\n",
            "Crime                   16\n",
            "Drama                   14\n",
            "Drama                    7\n",
            "Horror                   2\n",
            "Mystery                  2\n",
            "Western                  3\n"
          ],
          "name": "stdout"
        }
      ]
    },
    {
      "cell_type": "code",
      "metadata": {
        "id": "Htojz-a01PBK",
        "colab_type": "code",
        "colab": {
          "base_uri": "https://localhost:8080/",
          "height": 153
        },
        "outputId": "5a4f7936-0418-4a46-d4ea-5742941d4388"
      },
      "source": [
        "# What are the top 5 R-rated movies? (hint: Boolean filters needed! Then sorting!)\n",
        "print(movies[movies['content_rating'] == 'R'].sort_values('Rotten Tomatoes',ascending=False).head(5))"
      ],
      "execution_count": 36,
      "outputs": [
        {
          "output_type": "stream",
          "text": [
            "                title  year  ... Metacritic rt_imdb_ratio\n",
            "63          Toy Story  1995  ...        9.5      1.204819\n",
            "59       Citizen Kane  1941  ...       10.0      1.190476\n",
            "66        Toy Story 3  2010  ...        9.2      1.192771\n",
            "74  L.A. Confidential  1997  ...        9.0      1.192771\n",
            "64        Taxi Driver  1976  ...        9.4      1.180723\n",
            "\n",
            "[5 rows x 10 columns]\n"
          ],
          "name": "stdout"
        }
      ]
    },
    {
      "cell_type": "code",
      "metadata": {
        "id": "jzNW7wnz1SZO",
        "colab_type": "code",
        "colab": {
          "base_uri": "https://localhost:8080/",
          "height": 34
        },
        "outputId": "7a7d0331-ba6b-4a1c-cad5-0ceaf16a17ea"
      },
      "source": [
        "# What is the average Rotten Tomatoes score for all available films?\n",
        "print('Average Rotten Tomatoes Score:', movies['Rotten Tomatoes'].mean())"
      ],
      "execution_count": 20,
      "outputs": [
        {
          "output_type": "stream",
          "text": [
            "Average Rotten Tomatoes Score: 9.087341772151895\n"
          ],
          "name": "stdout"
        }
      ]
    },
    {
      "cell_type": "code",
      "metadata": {
        "id": "6_wz0gmX1bPC",
        "colab_type": "code",
        "colab": {
          "base_uri": "https://localhost:8080/",
          "height": 51
        },
        "outputId": "59e7fe25-e9e6-4637-c6c5-3ac32b908ccb"
      },
      "source": [
        "# Same question as above, but for the top 5 films\n",
        "print('Average Rotten Tomatoes Score for Top 5 Films: ',movies[['title' , 'Rotten Tomatoes']].sort_values('Rotten Tomatoes',ascending = False).head(5).mean())"
      ],
      "execution_count": 21,
      "outputs": [
        {
          "output_type": "stream",
          "text": [
            "Average Rotten Tomatoes Score for Top 5 Films:  Rotten Tomatoes    10.0\n",
            "dtype: float64\n"
          ],
          "name": "stdout"
        }
      ]
    },
    {
      "cell_type": "code",
      "metadata": {
        "id": "iaCKHMPH1eil",
        "colab_type": "code",
        "colab": {
          "base_uri": "https://localhost:8080/",
          "height": 272
        },
        "outputId": "54aa4f90-97ce-4029-d463-7a0010389fdc"
      },
      "source": [
        "# What is the Five Number Summary like for top rated films as per IMDB?\n",
        "print(movies[['title' , 'Rotten Tomatoes']].sort_values('Rotten Tomatoes',ascending = False).head(5).describe())\n",
        "print(movies[['Rotten Tomatoes']].sort_values('Rotten Tomatoes',ascending = False).head(5).agg(['count', 'mean', 'min', 'max' , 'std']))"
      ],
      "execution_count": 22,
      "outputs": [
        {
          "output_type": "stream",
          "text": [
            "       Rotten Tomatoes\n",
            "count              5.0\n",
            "mean              10.0\n",
            "std                0.0\n",
            "min               10.0\n",
            "25%               10.0\n",
            "50%               10.0\n",
            "75%               10.0\n",
            "max               10.0\n",
            "       Rotten Tomatoes\n",
            "count              5.0\n",
            "mean              10.0\n",
            "min               10.0\n",
            "max               10.0\n",
            "std                0.0\n"
          ],
          "name": "stdout"
        }
      ]
    },
    {
      "cell_type": "code",
      "metadata": {
        "id": "cuD0Qj051ucH",
        "colab_type": "code",
        "colab": {}
      },
      "source": [
        "# Find the ratio between Rotten Tomato rating vs IMDB rating for all films. Update the dataframe to include a Ratings Ratio column (inplace).\n",
        "movies['rt_imdb_ratio'] = movies['Rotten Tomatoes'] / movies['Internet Movie Database']"
      ],
      "execution_count": 0,
      "outputs": []
    },
    {
      "cell_type": "code",
      "metadata": {
        "id": "INtAGluh1zUN",
        "colab_type": "code",
        "colab": {
          "base_uri": "https://localhost:8080/",
          "height": 85
        },
        "outputId": "9abb076a-6fca-47af-d296-3172d8bec990"
      },
      "source": [
        "# Find the top 3 ratings ratio movies (rated higher on IMBD compared to Rotten Tomatoes)\n",
        "print(movies[['title' , 'rt_imdb_ratio']].sort_values('rt_imdb_ratio',ascending = False).head(3))"
      ],
      "execution_count": 25,
      "outputs": [
        {
          "output_type": "stream",
          "text": [
            "                title  rt_imdb_ratio\n",
            "63          Toy Story       1.204819\n",
            "74  L.A. Confidential       1.192771\n",
            "66        Toy Story 3       1.192771\n"
          ],
          "name": "stdout"
        }
      ]
    }
  ]
}