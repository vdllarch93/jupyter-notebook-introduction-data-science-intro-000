{
  "nbformat": 4,
  "nbformat_minor": 0,
  "metadata": {
    "colab": {
      "name": "PyDev Final Project (Vlad Llarch).ipynb",
      "version": "0.3.2",
      "provenance": [],
      "collapsed_sections": [],
      "toc_visible": true,
      "include_colab_link": true
    },
    "kernelspec": {
      "name": "python3",
      "display_name": "Python 3"
    }
  },
  "cells": [
    {
      "cell_type": "markdown",
      "metadata": {
        "id": "view-in-github",
        "colab_type": "text"
      },
      "source": [
        "<a href=\"https://colab.research.google.com/github/vdllarch93/jupyter-notebook-introduction-data-science-intro-000/blob/master/PyDev_Final_Project_(Vlad_Llarch).ipynb\" target=\"_parent\"><img src=\"https://colab.research.google.com/assets/colab-badge.svg\" alt=\"Open In Colab\"/></a>"
      ]
    },
    {
      "cell_type": "markdown",
      "metadata": {
        "id": "GvivvkGcOFkb",
        "colab_type": "text"
      },
      "source": [
        "# An Analysis of Wine Reviews and Quality"
      ]
    },
    {
      "cell_type": "markdown",
      "metadata": {
        "id": "R8pgo5rPRJzp",
        "colab_type": "text"
      },
      "source": [
        "## Importing the Necessary Modules and Stacking the Datasets"
      ]
    },
    {
      "cell_type": "code",
      "metadata": {
        "id": "luy6Pr7sOSGv",
        "colab_type": "code",
        "outputId": "3c56b6d7-a659-4b8d-c0dc-b2e95c626b9b",
        "colab": {
          "base_uri": "https://localhost:8080/",
          "height": 122
        }
      },
      "source": [
        "#Importing Necessary Modules and Stacking the Datasets\n",
        "import pandas as pd\n",
        "import numpy as np\n",
        "import matplotlib.pyplot as plt\n",
        "\n",
        "from google.colab import drive\n",
        "drive.mount('/content/gdrive')\n",
        "\n",
        "wine_reviews1 = pd.read_csv('gdrive/My Drive/PyDev Final Project/winemag-data-130k-v2.csv')\n",
        "wine_reviews2 = pd.read_csv('gdrive/My Drive/PyDev Final Project/winemag-data_first150k.csv')\n",
        "\n",
        "all_wine_reviews_full = pd.concat([wine_reviews1 , wine_reviews2], sort=False)\n",
        "\n",
        "#Excluding Where Price Is Null\n",
        "all_wine_reviews = all_wine_reviews_full[np.logical_not(np.isnan(all_wine_reviews_full['price']))]\n"
      ],
      "execution_count": 3,
      "outputs": [
        {
          "output_type": "stream",
          "text": [
            "Go to this URL in a browser: https://accounts.google.com/o/oauth2/auth?client_id=947318989803-6bn6qk8qdgf4n4g3pfee6491hc0brc4i.apps.googleusercontent.com&redirect_uri=urn%3Aietf%3Awg%3Aoauth%3A2.0%3Aoob&scope=email%20https%3A%2F%2Fwww.googleapis.com%2Fauth%2Fdocs.test%20https%3A%2F%2Fwww.googleapis.com%2Fauth%2Fdrive%20https%3A%2F%2Fwww.googleapis.com%2Fauth%2Fdrive.photos.readonly%20https%3A%2F%2Fwww.googleapis.com%2Fauth%2Fpeopleapi.readonly&response_type=code\n",
            "\n",
            "Enter your authorization code:\n",
            "··········\n",
            "Mounted at /content/gdrive\n"
          ],
          "name": "stdout"
        }
      ]
    },
    {
      "cell_type": "markdown",
      "metadata": {
        "id": "WARv1aj3RBV9",
        "colab_type": "text"
      },
      "source": [
        "## Running A Few Diagnostics on the Full Dataset"
      ]
    },
    {
      "cell_type": "code",
      "metadata": {
        "id": "l4drFh255qyN",
        "colab_type": "code",
        "outputId": "c4d8a474-9703-46d9-a364-8c8ad44a1f4f",
        "colab": {
          "base_uri": "https://localhost:8080/",
          "height": 2595
        }
      },
      "source": [
        "#What Fields Are There\n",
        "cols = all_wine_reviews.columns\n",
        "for idx, col in enumerate(cols):\n",
        "  print(idx+1, col)\n",
        "  \n",
        "print('================================')\n",
        "  \n",
        "#What Are The Different Field Types\n",
        "print(all_wine_reviews.dtypes)\n",
        "\n",
        "print('================================')\n",
        "\n",
        "#Are There Any Wines Reviewed Multiple Times\n",
        "all_wine_reviews[['title' , 'points']].groupby('title').count().sort_values(by='points',ascending=False)"
      ],
      "execution_count": 10,
      "outputs": [
        {
          "output_type": "stream",
          "text": [
            "1 Unnamed: 0\n",
            "2 country\n",
            "3 description\n",
            "4 designation\n",
            "5 points\n",
            "6 price\n",
            "7 province\n",
            "8 region_1\n",
            "9 region_2\n",
            "10 taster_name\n",
            "11 taster_twitter_handle\n",
            "12 title\n",
            "13 variety\n",
            "14 winery\n",
            "15 region\n",
            "16 price_range\n",
            "================================\n",
            "Unnamed: 0                 int64\n",
            "country                   object\n",
            "description               object\n",
            "designation               object\n",
            "points                     int64\n",
            "price                    float64\n",
            "province                  object\n",
            "region_1                  object\n",
            "region_2                  object\n",
            "taster_name               object\n",
            "taster_twitter_handle     object\n",
            "title                     object\n",
            "variety                   object\n",
            "winery                    object\n",
            "region                    object\n",
            "price_range               object\n",
            "dtype: object\n",
            "================================\n"
          ],
          "name": "stdout"
        },
        {
          "output_type": "execute_result",
          "data": {
            "text/html": [
              "<div>\n",
              "<style scoped>\n",
              "    .dataframe tbody tr th:only-of-type {\n",
              "        vertical-align: middle;\n",
              "    }\n",
              "\n",
              "    .dataframe tbody tr th {\n",
              "        vertical-align: top;\n",
              "    }\n",
              "\n",
              "    .dataframe thead th {\n",
              "        text-align: right;\n",
              "    }\n",
              "</style>\n",
              "<table border=\"1\" class=\"dataframe\">\n",
              "  <thead>\n",
              "    <tr style=\"text-align: right;\">\n",
              "      <th></th>\n",
              "      <th>points</th>\n",
              "    </tr>\n",
              "    <tr>\n",
              "      <th>title</th>\n",
              "      <th></th>\n",
              "    </tr>\n",
              "  </thead>\n",
              "  <tbody>\n",
              "    <tr>\n",
              "      <th>Gloria Ferrer NV Sonoma Brut Sparkling (Sonoma County)</th>\n",
              "      <td>11</td>\n",
              "    </tr>\n",
              "    <tr>\n",
              "      <th>Korbel NV Brut Sparkling (California)</th>\n",
              "      <td>9</td>\n",
              "    </tr>\n",
              "    <tr>\n",
              "      <th>Segura Viudas NV Extra Dry Sparkling (Cava)</th>\n",
              "      <td>8</td>\n",
              "    </tr>\n",
              "    <tr>\n",
              "      <th>Gloria Ferrer NV Blanc de Noirs Sparkling (Carneros)</th>\n",
              "      <td>7</td>\n",
              "    </tr>\n",
              "    <tr>\n",
              "      <th>Ruinart NV Brut Rosé  (Champagne)</th>\n",
              "      <td>7</td>\n",
              "    </tr>\n",
              "    <tr>\n",
              "      <th>Segura Viudas NV Aria Estate Extra Dry Sparkling (Cava)</th>\n",
              "      <td>7</td>\n",
              "    </tr>\n",
              "    <tr>\n",
              "      <th>Bailly-Lapierre NV Brut  (Crémant de Bourgogne)</th>\n",
              "      <td>6</td>\n",
              "    </tr>\n",
              "    <tr>\n",
              "      <th>J Vineyards &amp; Winery NV Brut Rosé Sparkling (Russian River Valley)</th>\n",
              "      <td>6</td>\n",
              "    </tr>\n",
              "    <tr>\n",
              "      <th>Korbel NV Sweet Rosé Sparkling (California)</th>\n",
              "      <td>6</td>\n",
              "    </tr>\n",
              "    <tr>\n",
              "      <th>Boizel NV Brut Réserve  (Champagne)</th>\n",
              "      <td>6</td>\n",
              "    </tr>\n",
              "    <tr>\n",
              "      <th>Mumm Napa NV Brut Prestige Sparkling (Napa Valley)</th>\n",
              "      <td>6</td>\n",
              "    </tr>\n",
              "    <tr>\n",
              "      <th>Chandon NV Rosé Sparkling (California)</th>\n",
              "      <td>5</td>\n",
              "    </tr>\n",
              "    <tr>\n",
              "      <th>Jean Laurent NV Blanc de Noirs Brut Pinot Noir (Champagne)</th>\n",
              "      <td>5</td>\n",
              "    </tr>\n",
              "    <tr>\n",
              "      <th>J. Dumangin Fils NV Le Rosé Premier Cru Brut  (Champagne)</th>\n",
              "      <td>5</td>\n",
              "    </tr>\n",
              "    <tr>\n",
              "      <th>Pierre Sparr NV Brut Réserve Sparkling (Crémant d'Alsace)</th>\n",
              "      <td>5</td>\n",
              "    </tr>\n",
              "    <tr>\n",
              "      <th>Mumm Napa NV Cuvée M Sparkling (Napa Valley)</th>\n",
              "      <td>5</td>\n",
              "    </tr>\n",
              "    <tr>\n",
              "      <th>Jacquart NV Brut Mosaïque  (Champagne)</th>\n",
              "      <td>5</td>\n",
              "    </tr>\n",
              "    <tr>\n",
              "      <th>Korbel NV Blanc de Noirs Sparkling (California)</th>\n",
              "      <td>5</td>\n",
              "    </tr>\n",
              "    <tr>\n",
              "      <th>Freixenet NV Cordon Negro Brut Sparkling (Cava)</th>\n",
              "      <td>5</td>\n",
              "    </tr>\n",
              "    <tr>\n",
              "      <th>Segura Viudas NV Reserva Heredad Sparkling (Cava)</th>\n",
              "      <td>5</td>\n",
              "    </tr>\n",
              "    <tr>\n",
              "      <th>Pommery NV Brut Royal  (Champagne)</th>\n",
              "      <td>5</td>\n",
              "    </tr>\n",
              "    <tr>\n",
              "      <th>Breathless NV Brut Sparkling (North Coast)</th>\n",
              "      <td>5</td>\n",
              "    </tr>\n",
              "    <tr>\n",
              "      <th>Roederer Estate NV Brut Rosé Sparkling (Anderson Valley)</th>\n",
              "      <td>5</td>\n",
              "    </tr>\n",
              "    <tr>\n",
              "      <th>Henri Abele NV Brut  (Champagne)</th>\n",
              "      <td>5</td>\n",
              "    </tr>\n",
              "    <tr>\n",
              "      <th>Freixenet NV Cordon Negro Extra Dry Sparkling (Cava)</th>\n",
              "      <td>5</td>\n",
              "    </tr>\n",
              "    <tr>\n",
              "      <th>Nicolas Feuillatte NV Brut Rosé  (Champagne)</th>\n",
              "      <td>4</td>\n",
              "    </tr>\n",
              "    <tr>\n",
              "      <th>A.R. Lenoble  NV Intense Brut  (Champagne)</th>\n",
              "      <td>4</td>\n",
              "    </tr>\n",
              "    <tr>\n",
              "      <th>Nicolas Feuillatte NV Brut  (Champagne)</th>\n",
              "      <td>4</td>\n",
              "    </tr>\n",
              "    <tr>\n",
              "      <th>Ruinart NV Blanc de Blancs Brut Chardonnay (Champagne)</th>\n",
              "      <td>4</td>\n",
              "    </tr>\n",
              "    <tr>\n",
              "      <th>Sommariva NV Brut  (Conegliano Valdobbiadene Prosecco Superiore)</th>\n",
              "      <td>4</td>\n",
              "    </tr>\n",
              "    <tr>\n",
              "      <th>...</th>\n",
              "      <td>...</td>\n",
              "    </tr>\n",
              "    <tr>\n",
              "      <th>Emeritus 2013 Pinot Hill Estate Grown Pinot Noir (Sonoma Coast)</th>\n",
              "      <td>1</td>\n",
              "    </tr>\n",
              "    <tr>\n",
              "      <th>Emeritus 2013 Hallberg Ranch Estate Grown Pinot Noir (Russian River Valley)</th>\n",
              "      <td>1</td>\n",
              "    </tr>\n",
              "    <tr>\n",
              "      <th>Emeritus 2012 William Wesley Pinot Noir (Sonoma Coast)</th>\n",
              "      <td>1</td>\n",
              "    </tr>\n",
              "    <tr>\n",
              "      <th>Emeritus 2012 Hallberg Ranch Pinot Noir (Russian River Valley)</th>\n",
              "      <td>1</td>\n",
              "    </tr>\n",
              "    <tr>\n",
              "      <th>Emile Beyer 2012 Lieu dit Hohrain Pinot Gris (Alsace)</th>\n",
              "      <td>1</td>\n",
              "    </tr>\n",
              "    <tr>\n",
              "      <th>Emile Beyer 2013 L'Hostellerie Gewurztraminer (Alsace)</th>\n",
              "      <td>1</td>\n",
              "    </tr>\n",
              "    <tr>\n",
              "      <th>Emile Beyer 2013 L'Hostellerie Pinot Gris (Alsace)</th>\n",
              "      <td>1</td>\n",
              "    </tr>\n",
              "    <tr>\n",
              "      <th>Emile Beyer 2013 Lieu dit Hohrain Pinot Gris (Alsace)</th>\n",
              "      <td>1</td>\n",
              "    </tr>\n",
              "    <tr>\n",
              "      <th>Emiliana 2008 Natura Sauvignon Blanc (Casablanca Valley)</th>\n",
              "      <td>1</td>\n",
              "    </tr>\n",
              "    <tr>\n",
              "      <th>Emiliana 2008 Natura Merlot (Rapel Valley)</th>\n",
              "      <td>1</td>\n",
              "    </tr>\n",
              "    <tr>\n",
              "      <th>Emiliana 2008 Natura Gewürztraminer (Cachapoal Valley)</th>\n",
              "      <td>1</td>\n",
              "    </tr>\n",
              "    <tr>\n",
              "      <th>Emiliana 2008 Natura Chardonnay (Casablanca Valley)</th>\n",
              "      <td>1</td>\n",
              "    </tr>\n",
              "    <tr>\n",
              "      <th>Emiliana 2008 Gê Red (Colchagua Valley)</th>\n",
              "      <td>1</td>\n",
              "    </tr>\n",
              "    <tr>\n",
              "      <th>Emiliana 2008 Eco Balance Carmenère (Colchagua Valley)</th>\n",
              "      <td>1</td>\n",
              "    </tr>\n",
              "    <tr>\n",
              "      <th>Emiliana 2007 Novas Limited Selection Cabernet Sauvignon-Merlot (Central Valley)</th>\n",
              "      <td>1</td>\n",
              "    </tr>\n",
              "    <tr>\n",
              "      <th>Emiliana 2007 Gê Red (Colchagua Valley)</th>\n",
              "      <td>1</td>\n",
              "    </tr>\n",
              "    <tr>\n",
              "      <th>Emiliana 2006 Gê Red (Colchagua Valley)</th>\n",
              "      <td>1</td>\n",
              "    </tr>\n",
              "    <tr>\n",
              "      <th>Emiliana 2005 Gê Red (Colchagua Valley)</th>\n",
              "      <td>1</td>\n",
              "    </tr>\n",
              "    <tr>\n",
              "      <th>Emiliana 2005 Coyam Red (Colchagua Valley)</th>\n",
              "      <td>1</td>\n",
              "    </tr>\n",
              "    <tr>\n",
              "      <th>Emile Leclère NV Réserve Brut  (Champagne)</th>\n",
              "      <td>1</td>\n",
              "    </tr>\n",
              "    <tr>\n",
              "      <th>Emile Leclère NV Cuvée du Bicentenaire Brut  (Champagne)</th>\n",
              "      <td>1</td>\n",
              "    </tr>\n",
              "    <tr>\n",
              "      <th>Emile Beyer 2015 Tradition Pinot Gris (Alsace)</th>\n",
              "      <td>1</td>\n",
              "    </tr>\n",
              "    <tr>\n",
              "      <th>Emile Beyer 2015 Pfersigberg Grand Cru Gewurztraminer (Alsace)</th>\n",
              "      <td>1</td>\n",
              "    </tr>\n",
              "    <tr>\n",
              "      <th>Emile Beyer 2014 Tradition Riesling (Alsace)</th>\n",
              "      <td>1</td>\n",
              "    </tr>\n",
              "    <tr>\n",
              "      <th>Emile Beyer 2014 Tradition Pinot Gris (Alsace)</th>\n",
              "      <td>1</td>\n",
              "    </tr>\n",
              "    <tr>\n",
              "      <th>Emile Beyer 2014 Pfersigberg Grand Cru Riesling (Alsace)</th>\n",
              "      <td>1</td>\n",
              "    </tr>\n",
              "    <tr>\n",
              "      <th>Emile Beyer 2014 Eichberg Grand Cru Riesling (Alsace)</th>\n",
              "      <td>1</td>\n",
              "    </tr>\n",
              "    <tr>\n",
              "      <th>Emile Beyer 2013 Tradition Pinot Gris (Alsace)</th>\n",
              "      <td>1</td>\n",
              "    </tr>\n",
              "    <tr>\n",
              "      <th>Emile Beyer 2013 Tradition Gewurztraminer (Alsace)</th>\n",
              "      <td>1</td>\n",
              "    </tr>\n",
              "    <tr>\n",
              "      <th>Štoka 2011 Izbrani Teran (Kras)</th>\n",
              "      <td>1</td>\n",
              "    </tr>\n",
              "  </tbody>\n",
              "</table>\n",
              "<p>110638 rows × 1 columns</p>\n",
              "</div>"
            ],
            "text/plain": [
              "                                                    points\n",
              "title                                                     \n",
              "Gloria Ferrer NV Sonoma Brut Sparkling (Sonoma ...      11\n",
              "Korbel NV Brut Sparkling (California)                    9\n",
              "Segura Viudas NV Extra Dry Sparkling (Cava)              8\n",
              "Gloria Ferrer NV Blanc de Noirs Sparkling (Carn...       7\n",
              "Ruinart NV Brut Rosé  (Champagne)                        7\n",
              "Segura Viudas NV Aria Estate Extra Dry Sparklin...       7\n",
              "Bailly-Lapierre NV Brut  (Crémant de Bourgogne)          6\n",
              "J Vineyards & Winery NV Brut Rosé Sparkling (Ru...       6\n",
              "Korbel NV Sweet Rosé Sparkling (California)              6\n",
              "Boizel NV Brut Réserve  (Champagne)                      6\n",
              "Mumm Napa NV Brut Prestige Sparkling (Napa Valley)       6\n",
              "Chandon NV Rosé Sparkling (California)                   5\n",
              "Jean Laurent NV Blanc de Noirs Brut Pinot Noir ...       5\n",
              "J. Dumangin Fils NV Le Rosé Premier Cru Brut  (...       5\n",
              "Pierre Sparr NV Brut Réserve Sparkling (Crémant...       5\n",
              "Mumm Napa NV Cuvée M Sparkling (Napa Valley)             5\n",
              "Jacquart NV Brut Mosaïque  (Champagne)                   5\n",
              "Korbel NV Blanc de Noirs Sparkling (California)          5\n",
              "Freixenet NV Cordon Negro Brut Sparkling (Cava)          5\n",
              "Segura Viudas NV Reserva Heredad Sparkling (Cava)        5\n",
              "Pommery NV Brut Royal  (Champagne)                       5\n",
              "Breathless NV Brut Sparkling (North Coast)               5\n",
              "Roederer Estate NV Brut Rosé Sparkling (Anderso...       5\n",
              "Henri Abele NV Brut  (Champagne)                         5\n",
              "Freixenet NV Cordon Negro Extra Dry Sparkling (...       5\n",
              "Nicolas Feuillatte NV Brut Rosé  (Champagne)             4\n",
              "A.R. Lenoble  NV Intense Brut  (Champagne)               4\n",
              "Nicolas Feuillatte NV Brut  (Champagne)                  4\n",
              "Ruinart NV Blanc de Blancs Brut Chardonnay (Cha...       4\n",
              "Sommariva NV Brut  (Conegliano Valdobbiadene Pr...       4\n",
              "...                                                    ...\n",
              "Emeritus 2013 Pinot Hill Estate Grown Pinot Noi...       1\n",
              "Emeritus 2013 Hallberg Ranch Estate Grown Pinot...       1\n",
              "Emeritus 2012 William Wesley Pinot Noir (Sonoma...       1\n",
              "Emeritus 2012 Hallberg Ranch Pinot Noir (Russia...       1\n",
              "Emile Beyer 2012 Lieu dit Hohrain Pinot Gris (A...       1\n",
              "Emile Beyer 2013 L'Hostellerie Gewurztraminer (...       1\n",
              "Emile Beyer 2013 L'Hostellerie Pinot Gris (Alsace)       1\n",
              "Emile Beyer 2013 Lieu dit Hohrain Pinot Gris (A...       1\n",
              "Emiliana 2008 Natura Sauvignon Blanc (Casablanc...       1\n",
              "Emiliana 2008 Natura Merlot (Rapel Valley)               1\n",
              "Emiliana 2008 Natura Gewürztraminer (Cachapoal ...       1\n",
              "Emiliana 2008 Natura Chardonnay (Casablanca Val...       1\n",
              "Emiliana 2008 Gê Red (Colchagua Valley)                  1\n",
              "Emiliana 2008 Eco Balance Carmenère (Colchagua ...       1\n",
              "Emiliana 2007 Novas Limited Selection Cabernet ...       1\n",
              "Emiliana 2007 Gê Red (Colchagua Valley)                  1\n",
              "Emiliana 2006 Gê Red (Colchagua Valley)                  1\n",
              "Emiliana 2005 Gê Red (Colchagua Valley)                  1\n",
              "Emiliana 2005 Coyam Red (Colchagua Valley)               1\n",
              "Emile Leclère NV Réserve Brut  (Champagne)               1\n",
              "Emile Leclère NV Cuvée du Bicentenaire Brut  (C...       1\n",
              "Emile Beyer 2015 Tradition Pinot Gris (Alsace)           1\n",
              "Emile Beyer 2015 Pfersigberg Grand Cru Gewurztr...       1\n",
              "Emile Beyer 2014 Tradition Riesling (Alsace)             1\n",
              "Emile Beyer 2014 Tradition Pinot Gris (Alsace)           1\n",
              "Emile Beyer 2014 Pfersigberg Grand Cru Riesling...       1\n",
              "Emile Beyer 2014 Eichberg Grand Cru Riesling (A...       1\n",
              "Emile Beyer 2013 Tradition Pinot Gris (Alsace)           1\n",
              "Emile Beyer 2013 Tradition Gewurztraminer (Alsace)       1\n",
              "Štoka 2011 Izbrani Teran (Kras)                          1\n",
              "\n",
              "[110638 rows x 1 columns]"
            ]
          },
          "metadata": {
            "tags": []
          },
          "execution_count": 10
        }
      ]
    },
    {
      "cell_type": "markdown",
      "metadata": {
        "id": "lYEcondGV0Kn",
        "colab_type": "text"
      },
      "source": [
        "# Running A Few Analyses"
      ]
    },
    {
      "cell_type": "markdown",
      "metadata": {
        "id": "X2hsYARd7MH9",
        "colab_type": "text"
      },
      "source": [
        "## What Country Has The Best Wine"
      ]
    },
    {
      "cell_type": "code",
      "metadata": {
        "id": "3N0pXi9N7Uwz",
        "colab_type": "code",
        "outputId": "6fabe3ec-582f-409d-a347-b4ac8e6063ee",
        "colab": {
          "base_uri": "https://localhost:8080/",
          "height": 376
        }
      },
      "source": [
        "#Collapsing Dataset To Be By Country and Wine Instead of Country, Wine, and Review\n",
        "avg_review_by_countrywine = all_wine_reviews[['country' , 'title' , 'points']].groupby(['country' , 'title']).mean()\n",
        "\n",
        "#Now Calculating Average Wine Review by Country To See Where The Best Wine Comes From\n",
        "avg_review_by_country = avg_review_by_countrywine.groupby('country').mean().sort_values(by = 'points',ascending=False).head(5)\n",
        "\n",
        "avg_review_by_country.groupby(['country']).mean().unstack().plot(kind='bar',title = 'Top 5 Countries by Average Rating',legend=False,ylim=(85,95),color=['green' , 'red' , 'navy' , 'yellow' , 'orange'])\n",
        "plt.show()"
      ],
      "execution_count": 5,
      "outputs": [
        {
          "output_type": "display_data",
          "data": {
            "image/png": "[encoded data removed]",
            "text/plain": [
              "<Figure size 432x288 with 1 Axes>"
            ]
          },
          "metadata": {
            "tags": []
          }
        }
      ]
    },
    {
      "cell_type": "markdown",
      "metadata": {
        "id": "69EYwtB8V8Wo",
        "colab_type": "text"
      },
      "source": [
        "## What Region Has The Best Wine"
      ]
    },
    {
      "cell_type": "code",
      "metadata": {
        "id": "WTRM3W_QV_Ts",
        "colab_type": "code",
        "colab": {
          "base_uri": "https://localhost:8080/",
          "height": 463
        },
        "outputId": "22901540-8928-44a4-af74-aa9f0656f261"
      },
      "source": [
        "#Mapping Countries to Their Respective Regions\n",
        "region_dict = {\n",
        "     'Albania'                  : 'Europe'\n",
        "    ,'Argentina'                : 'South America'\n",
        "    ,'Armenia'                  : 'Asia'\n",
        "    ,'Australia'                : 'Oceania'\n",
        "    ,'Austria'                  : 'Europe'\n",
        "    ,'Bosnia and Herzegovina'   : 'Europe'\n",
        "    ,'Brazil'                   : 'South America'\n",
        "    ,'Bulgaria'                 : 'Europe'\n",
        "    ,'Canada'                   : 'North America'\n",
        "    ,'Chile'                    : 'South America'\n",
        "    ,'China'                    : 'Asia'\n",
        "    ,'Croatia'                  : 'Europe'\n",
        "    ,'Cyprus'                   : 'Europe'\n",
        "    ,'Czech Republic'           : 'Europe'\n",
        "    ,'Egypt'                    : 'Africa'\n",
        "    ,'England'                  : 'Europe'\n",
        "    ,'France'                   : 'Europe'\n",
        "    ,'Georgia'                  : 'Asia'\n",
        "    ,'Germany'                  : 'Europe'\n",
        "    ,'Greece'                   : 'Europe'\n",
        "    ,'Hungary'                  : 'Europe'\n",
        "    ,'India'                    : 'Asia'\n",
        "    ,'Israel'                   : 'Europe'\n",
        "    ,'Italy'                    : 'Europe'\n",
        "    ,'Japan'                    : 'Asia'\n",
        "    ,'Lebanon'                  : 'Europe'\n",
        "    ,'Lithuania'                : 'Europe'\n",
        "    ,'Luxembourg'               : 'Europe'\n",
        "    ,'Macedonia'                : 'Europe'\n",
        "    ,'Mexico'                   : 'North America'\n",
        "    ,'Moldova'                  : 'Europe'\n",
        "    ,'Montenegro'               : 'Europe'\n",
        "    ,'Morocco'                  : 'Africa'\n",
        "    ,'New Zealand'              : 'Oceania'\n",
        "    ,'Peru'                     : 'South America'\n",
        "    ,'Portugal'                 : 'Europe'\n",
        "    ,'Romania'                  : 'Europe'\n",
        "    ,'Serbia'                   : 'Europe'\n",
        "    ,'Slovakia'                 : 'Europe'\n",
        "    ,'Slovenia'                 : 'Europe'\n",
        "    ,'South Africa'             : 'Africa'\n",
        "    ,'South Korea'              : 'Asia'\n",
        "    ,'Spain'                    : 'Europe'\n",
        "    ,'Switzerland'              : 'Europe'\n",
        "    ,'Tunisia'                  : 'North America'\n",
        "    ,'Turkey'                   : 'Europe'\n",
        "    ,'US'                       : 'North America'\n",
        "    ,'US-France'                : 'North America'\n",
        "    ,'Ukraine'                  : 'Europe'\n",
        "    ,'Uruguay'                  : 'South America'\n",
        "}\n",
        "\n",
        "all_wine_reviews['region'] = all_wine_reviews['country'].map(region_dict)\n",
        "\n",
        "avg_review_by_region = all_wine_reviews[['region' , 'points']].groupby('region').mean().sort_values(by = 'points',ascending=False).head(5)\n",
        "\n",
        "avg_review_by_region.groupby(['region']).mean().plot(kind='bar',title = 'Average Wine Rating by Region',legend=False,ylim=(80,90),color='navy')\n",
        "plt.show()"
      ],
      "execution_count": 6,
      "outputs": [
        {
          "output_type": "stream",
          "text": [
            "/usr/local/lib/python3.6/dist-packages/ipykernel_launcher.py:54: SettingWithCopyWarning: \n",
            "A value is trying to be set on a copy of a slice from a DataFrame.\n",
            "Try using .loc[row_indexer,col_indexer] = value instead\n",
            "\n",
            "See the caveats in the documentation: http://pandas.pydata.org/pandas-docs/stable/indexing.html#indexing-view-versus-copy\n"
          ],
          "name": "stderr"
        },
        {
          "output_type": "display_data",
          "data": {
            "image/png": "[encoded data removed]",
            "text/plain": [
              "<Figure size 432x288 with 1 Axes>"
            ]
          },
          "metadata": {
            "tags": []
          }
        }
      ]
    },
    {
      "cell_type": "markdown",
      "metadata": {
        "id": "ADA_JFvSZs0K",
        "colab_type": "text"
      },
      "source": [
        "## Are More Expensive Wines Truly 'Better'?"
      ]
    },
    {
      "cell_type": "markdown",
      "metadata": {
        "id": "REDIN-b9pLhT",
        "colab_type": "text"
      },
      "source": [
        "### by Price Bucket"
      ]
    },
    {
      "cell_type": "code",
      "metadata": {
        "id": "mXippopJeNuX",
        "colab_type": "code",
        "outputId": "4f704fef-9ec1-40a2-b204-bcb26efbd673",
        "colab": {
          "base_uri": "https://localhost:8080/",
          "height": 501
        }
      },
      "source": [
        "#Creating Price Buckets\n",
        "conditions = [\n",
        "     (all_wine_reviews['price'] <= 10),\n",
        "     (all_wine_reviews['price'] >= 10) & (all_wine_reviews['price'] <= 20),\n",
        "     (all_wine_reviews['price'] >= 20) & (all_wine_reviews['price'] <= 30),\n",
        "     (all_wine_reviews['price'] >= 30) & (all_wine_reviews['price'] <= 40),\n",
        "     (all_wine_reviews['price'] >= 40) & (all_wine_reviews['price'] <= 50),\n",
        "     (all_wine_reviews['price'] > 50)\n",
        "    ]\n",
        "\n",
        "choices = ['Between $0 and $10' , 'Between $10 and $20' , 'Between $20 and $30' , 'Between $30 and $40' , 'Between $40 and $50' , 'Greater Than $50']\n",
        "\n",
        "#For Wines Without Prices, Flagging as 'No Price Available' For Later Exclusion\n",
        "all_wine_reviews['price_range'] = np.select(conditions, choices,default = 'No Price Available')\n",
        "\n",
        "#Excluding Null Price Values\n",
        "avg_rating_by_winepricerange = all_wine_reviews[all_wine_reviews['price_range'] != 'No Price Available'][['price_range' , 'title' , 'points']].groupby(['price_range' , 'title']).mean()\n",
        "\n",
        "#Calculating Average Review by Price Range\n",
        "avg_review_by_pricerange = avg_rating_by_winepricerange.groupby('price_range').mean().sort_values(by = 'points',ascending=False)\n",
        "\n",
        "avg_review_by_pricerange.groupby(['price_range']).mean().plot(kind='bar',title = 'Average Wine Rating by Price Range',legend=False,ylim=(80,95),color='red')\n",
        "plt.show()"
      ],
      "execution_count": 7,
      "outputs": [
        {
          "output_type": "stream",
          "text": [
            "/usr/local/lib/python3.6/dist-packages/ipykernel_launcher.py:13: SettingWithCopyWarning: \n",
            "A value is trying to be set on a copy of a slice from a DataFrame.\n",
            "Try using .loc[row_indexer,col_indexer] = value instead\n",
            "\n",
            "See the caveats in the documentation: http://pandas.pydata.org/pandas-docs/stable/indexing.html#indexing-view-versus-copy\n",
            "  del sys.path[0]\n"
          ],
          "name": "stderr"
        },
        {
          "output_type": "display_data",
          "data": {
            "image/png": "[encoded data removed]",
            "text/plain": [
              "<Figure size 432x288 with 1 Axes>"
            ]
          },
          "metadata": {
            "tags": []
          }
        }
      ]
    },
    {
      "cell_type": "markdown",
      "metadata": {
        "id": "tupDElzPq99F",
        "colab_type": "text"
      },
      "source": [
        "### Scatter Plot of Price and Ratings"
      ]
    },
    {
      "cell_type": "code",
      "metadata": {
        "id": "mfTN4ZNLrBDs",
        "colab_type": "code",
        "outputId": "091cef86-d290-4803-9a9a-3ae26cbb792d",
        "colab": {
          "base_uri": "https://localhost:8080/",
          "height": 300
        }
      },
      "source": [
        "all_wine_reviews[all_wine_reviews['price'] <= 500].plot(kind=\"scatter\",x=\"points\",y=\"price\")"
      ],
      "execution_count": 8,
      "outputs": [
        {
          "output_type": "execute_result",
          "data": {
            "text/plain": [
              "<matplotlib.axes._subplots.AxesSubplot at 0x7f2c116ce198>"
            ]
          },
          "metadata": {
            "tags": []
          },
          "execution_count": 8
        },
        {
          "output_type": "display_data",
          "data": {
            "image/png": "[encoded data removed]",
            "text/plain": [
              "<Figure size 432x288 with 1 Axes>"
            ]
          },
          "metadata": {
            "tags": []
          }
        }
      ]
    },
    {
      "cell_type": "markdown",
      "metadata": {
        "id": "NZJPZiz4kPwp",
        "colab_type": "text"
      },
      "source": [
        "## Top 5 'Best Value' Wines by Country"
      ]
    },
    {
      "cell_type": "code",
      "metadata": {
        "id": "KAov0HeYy5Nb",
        "colab_type": "code",
        "colab": {
          "base_uri": "https://localhost:8080/",
          "height": 136
        },
        "outputId": "4a8d09a2-b7b7-4eab-e570-2da0653d4356"
      },
      "source": [
        "#Defining Function - In the event you're looking for a wine from a specific region and price keyword args in the event you wanna ball out (or you're on a budget)\n",
        "def value_wines_by_country(country,upper_limit=10000,lower_limit=0):\n",
        "  \n",
        "  #Limiting To Wines In the Country of Interest\n",
        "  all_wine_reviews_lim = all_wine_reviews[(all_wine_reviews['country'] == f'{country}') & (all_wine_reviews['price'] <= upper_limit) & (all_wine_reviews['price'] >= lower_limit)]\n",
        "  \n",
        "  if all_wine_reviews_lim.empty == True:\n",
        "        print('Wine Review Data for Country of Interest Not Found. Please Try Another Country')\n",
        "  \n",
        "  else:\n",
        "        #Calculating the Average Price / Rating of Wines\n",
        "        all_wine_reviews_lim = all_wine_reviews_lim[['title' , 'price' , 'points']].groupby('title').mean()\n",
        "  \n",
        "        #Calculating the 'Value' Purchases (i.e., most bang / points for your buck)\n",
        "        all_wine_reviews_lim['value'] = all_wine_reviews_lim['points'] / all_wine_reviews_lim['price']\n",
        "  \n",
        "        #Displayig the Top 5\n",
        "        return print(all_wine_reviews_lim.sort_values(by='value',ascending = False).head(5))\n",
        "\n",
        "value_wines_by_country('Argentina',lower_limit=5)\n",
        "\n"
      ],
      "execution_count": 9,
      "outputs": [
        {
          "output_type": "stream",
          "text": [
            "                                               price  points      value\n",
            "title                                                                  \n",
            "Zamarro 2009 Malbec-Bonarda (Mendoza)            5.0      84  16.800000\n",
            "Toca Diamonte 2010 Malbec (Mendoza)              5.0      80  16.000000\n",
            "Terrenal 2013 Estate Bottled Malbec (Mendoza)    5.0      80  16.000000\n",
            "Funky Llama 2008 Chardonnay (Mendoza)            6.0      85  14.166667\n",
            "Funky Llama 2009 Malbec (Mendoza)                6.0      85  14.166667\n"
          ],
          "name": "stdout"
        }
      ]
    }
  ]
}